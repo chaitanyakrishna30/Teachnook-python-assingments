{
  "nbformat": 4,
  "nbformat_minor": 0,
  "metadata": {
    "colab": {
      "provenance": [],
      "authorship_tag": "ABX9TyMIS8KUt5+xO/MTU4gGpG8i",
      "include_colab_link": true
    },
    "kernelspec": {
      "name": "python3",
      "display_name": "Python 3"
    },
    "language_info": {
      "name": "python"
    }
  },
  "cells": [
    {
      "cell_type": "markdown",
      "metadata": {
        "id": "view-in-github",
        "colab_type": "text"
      },
      "source": [
        "<a href=\"https://colab.research.google.com/github/chaitanyakrishna30/coursera/blob/main/Teachnook.ipynb\" target=\"_parent\"><img src=\"https://colab.research.google.com/assets/colab-badge.svg\" alt=\"Open In Colab\"/></a>"
      ]
    },
    {
      "cell_type": "markdown",
      "source": [
        "# Assignment 1 \n",
        "# Create a two different examples for collective datatypes in python"
      ],
      "metadata": {
        "id": "VkX0AvFFZVBt"
      }
    },
    {
      "cell_type": "markdown",
      "source": [
        "List: A collection of ordered and mutable items, can be of different data types, e.g. [1, \"apple\", 3.14, [\"nested\", \"list\"]].\n",
        "\n",
        "Tuple: A collection of ordered and immutable items, can be of different data types, e.g. (1, \"apple\", 3.14, (\"nested\", \"tuple\"))."
      ],
      "metadata": {
        "id": "BDZNPOA9ak9t"
      }
    },
    {
      "cell_type": "markdown",
      "source": [
        "Assignment 2 \n",
        "work on r+,w+,a+\n",
        "\n",
        "\n"
      ],
      "metadata": {
        "id": "BQG0v6g4bKkn"
      }
    },
    {
      "cell_type": "markdown",
      "source": [],
      "metadata": {
        "id": "eSIfyrfxby_R"
      }
    },
    {
      "cell_type": "code",
      "source": [
        "# Open a file for reading and writing\n",
        "with open(\"sample.txt\", \"r+\") as file:\n",
        "    # Read the contents of the file\n",
        "    contents = file.read()\n",
        "    print(contents)\n",
        "    \n",
        "    # Move the file pointer to the beginning of the file\n",
        "    file.seek(0)\n",
        "    \n",
        "    # Write to the file\n",
        "    file.write(\"This is a new line added to the file.\")\n",
        "    \n",
        "    # Move the file pointer to the beginning of the file\n",
        "    file.seek(0)\n",
        "    \n",
        "    # Read the contents of the file again to see the changes\n",
        "    contents = file.read()\n",
        "    print(contents)\n"
      ],
      "metadata": {
        "colab": {
          "base_uri": "https://localhost:8080/"
        },
        "id": "qfSQcxf6bJpH",
        "outputId": "63942b9a-a390-4a52-a0e7-92528e8a9e05"
      },
      "execution_count": 1,
      "outputs": [
        {
          "output_type": "stream",
          "name": "stdout",
          "text": [
            "hello  this is a sample file\n",
            "This is a new line added to the file.\n"
          ]
        }
      ]
    },
    {
      "cell_type": "code",
      "source": [
        "# Open a file for reading and writing\n",
        "with open(\"sample.txt\", \"w+\") as file:\n",
        "    # Write to the file\n",
        "    file.write(\"This is a new line added to the file.\")\n",
        "    \n",
        "    # Move the file pointer to the beginning of the file\n",
        "    file.seek(0)\n",
        "    \n",
        "    # Read the contents of the file\n",
        "    contents = file.read()\n",
        "    print(contents)\n"
      ],
      "metadata": {
        "colab": {
          "base_uri": "https://localhost:8080/"
        },
        "id": "VZaYEQw9b7Db",
        "outputId": "b097d8c3-3be6-4b6d-939d-b81b31039c3d"
      },
      "execution_count": 2,
      "outputs": [
        {
          "output_type": "stream",
          "name": "stdout",
          "text": [
            "This is a new line added to the file.\n"
          ]
        }
      ]
    },
    {
      "cell_type": "code",
      "source": [
        "# Open a file for reading and writing\n",
        "with open(\"sample.txt\", \"a+\") as file:\n",
        "    # Write to the file\n",
        "    file.write(\"This is a new line added to the file.\")\n",
        "    \n",
        "    # Move the file pointer to the beginning of the file\n",
        "    file.seek(0)\n",
        "    \n",
        "    # Read the contents of the file\n",
        "    contents = file.read()\n",
        "    print(contents)\n"
      ],
      "metadata": {
        "colab": {
          "base_uri": "https://localhost:8080/"
        },
        "id": "eA5MnZNEcHeE",
        "outputId": "911bb4d8-8f98-4467-d3e3-913d7bab4c18"
      },
      "execution_count": 3,
      "outputs": [
        {
          "output_type": "stream",
          "name": "stdout",
          "text": [
            "This is a new line added to the file.This is a new line added to the file.\n"
          ]
        }
      ]
    }
  ]
}